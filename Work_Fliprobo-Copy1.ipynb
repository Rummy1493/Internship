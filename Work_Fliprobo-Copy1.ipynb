{
 "cells": [
  {
   "cell_type": "code",
   "execution_count": 2,
   "id": "85f690e3",
   "metadata": {},
   "outputs": [
    {
     "name": "stdout",
     "output_type": "stream",
     "text": [
      "Enter the number - 10\n",
      "Factorial of given number is =  3628800\n"
     ]
    }
   ],
   "source": [
    "Factorial of a number \n",
    "\n",
    "i = int(input('Enter the number - '))\n",
    "Fact = 1\n",
    "while (i>0):\n",
    "    Fact = Fact*i \n",
    "    i = i-1\n",
    "print(\"Factorial of given number is = \", Fact)  \n",
    "\n",
    "    "
   ]
  },
  {
   "cell_type": "code",
   "execution_count": 8,
   "id": "46272819",
   "metadata": {},
   "outputs": [
    {
     "ename": "SyntaxError",
     "evalue": "invalid syntax (4155321537.py, line 10)",
     "output_type": "error",
     "traceback": [
      "\u001b[1;36m  Input \u001b[1;32mIn [8]\u001b[1;36m\u001b[0m\n\u001b[1;33m    else :\u001b[0m\n\u001b[1;37m    ^\u001b[0m\n\u001b[1;31mSyntaxError\u001b[0m\u001b[1;31m:\u001b[0m invalid syntax\n"
     ]
    }
   ],
   "source": [
    "\n",
    "\n",
    "n = int(input(\"Enter the number:\"))\n",
    "count = 0 \n",
    "i = 1\n",
    "while (i<=n):\n",
    "    if (n%i==0):\n",
    "        count = count+1\n",
    "        i = i+1\n",
    "if(count==2):\n",
    "    print(\"The number is a prime number.\")\n",
    "    else :\n",
    "        print(\"This number is a composite number.\")\n"
   ]
  },
  {
   "cell_type": "code",
   "execution_count": 10,
   "id": "740c37b9",
   "metadata": {},
   "outputs": [
    {
     "ename": "SyntaxError",
     "evalue": "invalid syntax (3903240967.py, line 5)",
     "output_type": "error",
     "traceback": [
      "\u001b[1;36m  Input \u001b[1;32mIn [10]\u001b[1;36m\u001b[0m\n\u001b[1;33m    rev = (rev*10)+ %10\u001b[0m\n\u001b[1;37m                    ^\u001b[0m\n\u001b[1;31mSyntaxError\u001b[0m\u001b[1;31m:\u001b[0m invalid syntax\n"
     ]
    }
   ],
   "source": [
    "\n",
    "\n",
    "i = int(input(\"Enter the number:\"))\n",
    "rev=0\n",
    "x = i\n",
    "while(i>0):\n",
    "    rev = (rev*10)+ %10\n",
    "    i=i//10\n",
    "if(x==rev):\n",
    "    print(\"The given number is a palindrone number.\")\n",
    "    else:\n",
    "        print(\"The given number number is not a palindrone number.\")"
   ]
  },
  {
   "cell_type": "code",
   "execution_count": 15,
   "id": "aa73f122",
   "metadata": {},
   "outputs": [
    {
     "name": "stdout",
     "output_type": "stream",
     "text": [
      "ENter the value of opposite site :3\n",
      "Enter the value of adjacent side :5\n",
      "the value of hypotunese side is :{c}\n"
     ]
    }
   ],
   "source": [
    "\n",
    "\n",
    "import math \n",
    "\n",
    "a = float(input(\"ENter the value of opposite site :\"))\n",
    "b = float(input(\"Enter the value of adjacent side :\"))\n",
    "c = math.sqrt(a ** 2 + b ** 2)\n",
    "\n",
    "print(\"the value of hypotunese side is :{c}\")"
   ]
  },
  {
   "cell_type": "code",
   "execution_count": 16,
   "id": "e2f58454",
   "metadata": {},
   "outputs": [
    {
     "ename": "SyntaxError",
     "evalue": "invalid syntax (1068099924.py, line 6)",
     "output_type": "error",
     "traceback": [
      "\u001b[1;36m  Input \u001b[1;32mIn [16]\u001b[1;36m\u001b[0m\n\u001b[1;33m    else:\u001b[0m\n\u001b[1;37m    ^\u001b[0m\n\u001b[1;31mSyntaxError\u001b[0m\u001b[1;31m:\u001b[0m invalid syntax\n"
     ]
    }
   ],
   "source": [
    "\n",
    "\n",
    "str = input( \"Enter the string:\")\n",
    "d = dict()\n",
    "for c in str:\n",
    "    if c in d:\n",
    "        d[c] = d[c] + 1 \n",
    "        else:\n",
    "            d[c] = 1 \n",
    "            print(\"Frequency of each character in a given string is :\"d)\n",
    "            "
   ]
  },
  {
   "cell_type": "code",
   "execution_count": null,
   "id": "47a2ecc4",
   "metadata": {},
   "outputs": [],
   "source": []
  },
  {
   "cell_type": "code",
   "execution_count": null,
   "id": "4166be53",
   "metadata": {},
   "outputs": [],
   "source": []
  }
 ],
 "metadata": {
  "kernelspec": {
   "display_name": "Python 3 (ipykernel)",
   "language": "python",
   "name": "python3"
  },
  "language_info": {
   "codemirror_mode": {
    "name": "ipython",
    "version": 3
   },
   "file_extension": ".py",
   "mimetype": "text/x-python",
   "name": "python",
   "nbconvert_exporter": "python",
   "pygments_lexer": "ipython3",
   "version": "3.9.12"
  }
 },
 "nbformat": 4,
 "nbformat_minor": 5
}
